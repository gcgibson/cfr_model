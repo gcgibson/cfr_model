{
 "cells": [
  {
   "cell_type": "code",
   "execution_count": 62,
   "metadata": {},
   "outputs": [],
   "source": [
    "import jax.numpy as jnp\n",
    "from jax import random, vmap\n",
    "from jax.scipy.special import logsumexp\n",
    "import matplotlib.pyplot as plt\n",
    "import numpy as np\n",
    "import pandas as pd\n",
    "import seaborn as sns\n",
    "\n",
    "import numpyro\n",
    "from numpyro.diagnostics import hpdi\n",
    "import numpyro.distributions as dist\n",
    "from numpyro import handlers\n",
    "from numpyro.infer import MCMC, NUTS"
   ]
  },
  {
   "cell_type": "code",
   "execution_count": 63,
   "metadata": {},
   "outputs": [
    {
     "name": "stderr",
     "output_type": "stream",
     "text": [
      "/usr/local/Cellar/python3/3.6.4_2/Frameworks/Python.framework/Versions/3.6/lib/python3.6/site-packages/IPython/core/interactiveshell.py:3063: DtypeWarning: Columns (1) have mixed types.Specify dtype option on import or set low_memory=False.\n",
      "  interactivity=interactivity, compiler=compiler, result=result)\n"
     ]
    }
   ],
   "source": [
    "import pandas as pd\n",
    "import numpy as np\n",
    "DATA_URI = \"https://raw.githubusercontent.com/reichlab/covid19-forecast-hub/master/data-truth/truth-Incident%20Cases.csv\"\n",
    "\n",
    "df = pd.read_csv(DATA_URI)\n",
    "\n",
    "DATA_URI = \"https://raw.githubusercontent.com/reichlab/covid19-forecast-hub/master/data-truth/truth-Incident%20Deaths.csv\"\n",
    "\n",
    "\n",
    "df_deaths = pd.read_csv(DATA_URI)\n",
    "\n",
    "\n",
    "cases=df[df.location_name==\"California\"]\n",
    "deaths=df_deaths[df_deaths.location_name==\"California\"]\n",
    "joined_df = cases.set_index('date').join(deaths.set_index('date'),how='left',lsuffix='cases',rsuffix='deaths')"
   ]
  },
  {
   "cell_type": "code",
   "execution_count": 242,
   "metadata": {},
   "outputs": [
    {
     "name": "stdout",
     "output_type": "stream",
     "text": [
      "(317, 18)\n"
     ]
    }
   ],
   "source": [
    "import patsy\n",
    "df_full = pd.DataFrame({'X':np.arange(len(joined_df.valuecases.tolist())),\n",
    "                   'Y':np.array(joined_df.valuecases.tolist()),  # add your data here\n",
    "                    'D': np.array(joined_df.valuedeaths.tolist())\n",
    "                  })\n",
    "df_train = df_full.drop(df_full[df_full.Y ==0].index)\n",
    "df_train.Y=df_train.Y \n",
    "df_train.D= df_train.D \n",
    "\n",
    "\n",
    "\n",
    "B = patsy.dmatrix('bs(X, knots=np.arange(df_train.X.values[0],df_train.X.values[-1],25), degree=3)', df_train, \n",
    "                  return_type='matrix')\n",
    "\n",
    "num_data, num_basis = B.shape\n",
    "print (B.shape)"
   ]
  },
  {
   "cell_type": "code",
   "execution_count": 243,
   "metadata": {},
   "outputs": [],
   "source": [
    "def exp_pdf(lambda_,x):\n",
    "    return (lambda_*np.exp(-lambda_*x))"
   ]
  },
  {
   "cell_type": "code",
   "execution_count": null,
   "metadata": {},
   "outputs": [],
   "source": []
  },
  {
   "cell_type": "code",
   "execution_count": 244,
   "metadata": {},
   "outputs": [],
   "source": [
    "import sys\n",
    "np.set_printoptions(threshold=sys.maxsize)\n",
    "import math\n",
    "# building the expnential distribution mask\n",
    "lambda_ = 21\n",
    "mask = np.zeros((num_data,num_data))\n",
    "for i in np.arange(num_data):\n",
    "    tmp=np.flip(exp_pdf(21,np.arange(num_data))[:(i+1)])\n",
    "    mask[i,:(i+1)]=tmp\n",
    "        \n"
   ]
  },
  {
   "cell_type": "code",
   "execution_count": 245,
   "metadata": {},
   "outputs": [],
   "source": [
    "def LogisticRandomWalk(loc=1., scale=1e-2, drift=0., num_steps=100):\n",
    "    '''\n",
    "    Return distrubtion of exponentiated Gaussian random walk\n",
    "   \n",
    "    Variables are x_0, ..., x_{T-1}\n",
    "   \n",
    "    Dynamics in log-space are random walk with drift:\n",
    "       log(x_0) := log(loc)\n",
    "       log(x_t) := log(x_{t-1}) + drift + eps_t,    eps_t ~ N(0, scale)\n",
    "    \n",
    "    ==> Dynamics in non-log space are:\n",
    "        x_0 := loc\n",
    "        x_t := x_{t-1} * exp(drift + eps_t),    eps_t ~ N(0, scale)\n",
    "    '''\n",
    "   \n",
    "    logistic_loc = np.log(loc/(1-loc)) + drift * (np.arange(num_steps)+0.)\n",
    "   \n",
    "    return dist.TransformedDistribution(\n",
    "        dist.GaussianRandomWalk(scale=scale, num_steps=num_steps),\n",
    "        [\n",
    "            dist.transforms.AffineTransform(loc = logistic_loc, scale=1.),\n",
    "            dist.transforms.SigmoidTransform()\n",
    "        ]\n",
    "    )"
   ]
  },
  {
   "cell_type": "code",
   "execution_count": 282,
   "metadata": {},
   "outputs": [],
   "source": [
    "\n",
    "def model(B_local=None,Forecast=False,Forecast_det_prob=None,mask=None):\n",
    "    if Forecast==False:\n",
    "        det_prob = numpyro.sample(\"det_prob\",\n",
    "                                      LogisticRandomWalk(loc=.01, \n",
    "                                                         scale=5e-2, \n",
    "                                                         drift=0.,\n",
    "                                                         num_steps=num_data))\n",
    "    \n",
    "    else:\n",
    "        det_prob=Forecast_det_prob\n",
    "    a_raw =numpyro.sample('a_raw',dist.Normal(jnp.zeros(num_basis),1000*jnp.ones(num_basis)))\n",
    "    sigma = numpyro.sample('sigma', dist.Exponential(10))\n",
    "    sigma2 = numpyro.sample('sigma2', dist.Exponential(10))\n",
    "\n",
    "    y_hat =  numpyro.deterministic('c', jnp.dot(jnp.array(B_local), a_raw))\n",
    "    y = numpyro.sample('y', dist.Normal(y_hat, sigma2), obs=df_train.Y.values)\n",
    "   \n",
    "    y_hat_masked = jnp.matmul(mask,y_hat)\n",
    "    d_hat = jnp.flip(numpyro.deterministic('d', det_prob*y_hat_masked))\n",
    "  \n",
    "    #print (np.transpose(y_hat_tiled))\n",
    "\n",
    "    numpyro.sample('d_obs', dist.Normal(det_prob*y_hat_masked, sigma), obs=df_train.D.values)\n",
    "\n",
    "    #numpyro.sample('d',dist.Normal(d_hat,10),obs=df_train.D)"
   ]
  },
  {
   "cell_type": "code",
   "execution_count": null,
   "metadata": {},
   "outputs": [
    {
     "name": "stderr",
     "output_type": "stream",
     "text": [
      "sample:  65%|██████▍   | 194/300 [00:18<00:04, 24.23it/s, 1023 steps of size 7.81e-03. acc. prob=0.94]"
     ]
    }
   ],
   "source": [
    "rng_key = random.PRNGKey(0)\n",
    "rng_key, rng_key_ = random.split(rng_key)\n",
    "\n",
    "num_warmup, num_samples = 100, 200\n",
    "\n",
    "# Run NUTS.\n",
    "kernel = NUTS(model)\n",
    "mcmc = MCMC(kernel, num_warmup, num_samples)\n",
    "mcmc.run(rng_key_,B_local=B,Forecast=False,Forecast_det_prob=None,mask=mask)\n",
    "mcmc.print_summary()\n",
    "samples_1 = mcmc.get_samples()"
   ]
  },
  {
   "cell_type": "code",
   "execution_count": 281,
   "metadata": {},
   "outputs": [
    {
     "data": {
      "text/plain": [
       "<matplotlib.collections.PathCollection at 0x1469a2d68>"
      ]
     },
     "execution_count": 281,
     "metadata": {},
     "output_type": "execute_result"
    },
    {
     "data": {
      "image/png": "[encoded data removed]",
      "text/plain": [
       "<Figure size 432x288 with 1 Axes>"
      ]
     },
     "metadata": {},
     "output_type": "display_data"
    }
   ],
   "source": [
    "plt.plot(df_train.X.values,samples_1['d'].mean(axis=0))\n",
    "plt.scatter(df_train.X.values,df_train.D.values,color='orange')"
   ]
  },
  {
   "cell_type": "code",
   "execution_count": 280,
   "metadata": {},
   "outputs": [
    {
     "data": {
      "text/plain": [
       "<matplotlib.collections.PathCollection at 0x1462829b0>"
      ]
     },
     "execution_count": 280,
     "metadata": {},
     "output_type": "execute_result"
    },
    {
     "data": {
      "image/png": "[encoded data removed]",
      "text/plain": [
       "<Figure size 432x288 with 1 Axes>"
      ]
     },
     "metadata": {},
     "output_type": "display_data"
    }
   ],
   "source": [
    "plt.plot(df_train.X.values,samples_1['c'].mean(axis=0))\n",
    "plt.scatter(df_train.X.values,df_train.Y.values,color='orange')"
   ]
  },
  {
   "cell_type": "code",
   "execution_count": 274,
   "metadata": {},
   "outputs": [],
   "source": [
    "lambda_ = 21\n",
    "forecast_mask = np.zeros((27,27))\n",
    "for i in np.arange(27):\n",
    "    for j in np.arange(27):\n",
    "        if j-i >=0:\n",
    "            tmp = exp_pdf(lambda_,np.abs(i-j))\n",
    "            if math.isinf(tmp):\n",
    "                forecast_mask[27-i-1,j] = 0\n",
    "            else:\n",
    "                forecast_mask[27-i-1,j] = tmp\n",
    "        else:\n",
    "            forecast_mask[27-i-1,j] = 0\n",
    "        "
   ]
  },
  {
   "cell_type": "code",
   "execution_count": 275,
   "metadata": {},
   "outputs": [],
   "source": [
    "new_data = {\"X\":np.arange(df_train.shape[0],df_train.shape[0]+27,1)}\n",
    "B_predict = patsy.build_design_matrices([B.design_info], new_data)[0]\n",
    "from numpyro.infer import Predictive\n",
    "det_prob_forecast= samples_1['det_prob'].mean(axis=0)[-1]\n",
    "predictive = Predictive(model, samples_1)\n",
    "predictions = predictive(rng_key_,B_local=B_predict,Forecast=True,Forecast_det_prob=det_prob_forecast,mask=forecast_mask)['d']\n"
   ]
  },
  {
   "cell_type": "code",
   "execution_count": 276,
   "metadata": {},
   "outputs": [
    {
     "data": {
      "text/plain": [
       "(200, 27)"
      ]
     },
     "execution_count": 276,
     "metadata": {},
     "output_type": "execute_result"
    }
   ],
   "source": [
    "predictions.shape"
   ]
  },
  {
   "cell_type": "code",
   "execution_count": 277,
   "metadata": {},
   "outputs": [
    {
     "name": "stdout",
     "output_type": "stream",
     "text": [
      "344\n"
     ]
    },
    {
     "data": {
      "text/plain": [
       "[<matplotlib.lines.Line2D at 0x145b0d780>]"
      ]
     },
     "execution_count": 277,
     "metadata": {},
     "output_type": "execute_result"
    },
    {
     "data": {
      "image/png": "[encoded data removed]",
      "text/plain": [
       "<Figure size 432x288 with 1 Axes>"
      ]
     },
     "metadata": {},
     "output_type": "display_data"
    }
   ],
   "source": [
    "full_mean = np.concatenate((samples_1['d'].mean(axis=0),predictions.mean(axis=0)))\n",
    "full_upq = np.concatenate((samples_1['d'].mean(axis=0),np.quantile(predictions,.975,axis=0)))\n",
    "full_lrq = np.concatenate((samples_1['d'].mean(axis=0),np.quantile(predictions,.025,axis=0)))\n",
    "\n",
    "print (len(full_upq))\n",
    "full_mean_x = np.concatenate((df_train.X.values,np.arange(df_train.X.values[-1],df_train.X.values[-1]+27)))\n",
    "plt.plot(full_mean_x,full_mean)\n",
    "plt.scatter(df_train.X.values,df_train.D.values,color='orange',alpha=.4)\n",
    "plt.plot(full_mean_x,full_upq,color='blue',alpha=.4)\n",
    "plt.plot(full_mean_x,full_lrq,color='blue',alpha=.4)\n",
    "\n"
   ]
  },
  {
   "cell_type": "code",
   "execution_count": 254,
   "metadata": {},
   "outputs": [
    {
     "data": {
      "text/plain": [
       "[<matplotlib.lines.Line2D at 0x13ec38898>]"
      ]
     },
     "execution_count": 254,
     "metadata": {},
     "output_type": "execute_result"
    },
    {
     "data": {
      "image/png": "[encoded data removed]",
      "text/plain": [
       "<Figure size 432x288 with 1 Axes>"
      ]
     },
     "metadata": {},
     "output_type": "display_data"
    }
   ],
   "source": [
    "plt.plot(full_mean_x,np.exp(full_mean))\n",
    "plt.scatter(df_train.X.values,np.exp(df_train.D.values),color='orange',alpha=.4)\n",
    "plt.plot(full_mean_x,np.exp(full_upq),color='blue',alpha=.4)\n",
    "plt.plot(full_mean_x,np.exp(full_lrq),color='blue',alpha=.4)"
   ]
  },
  {
   "cell_type": "code",
   "execution_count": null,
   "metadata": {},
   "outputs": [],
   "source": []
  },
  {
   "cell_type": "code",
   "execution_count": null,
   "metadata": {},
   "outputs": [],
   "source": []
  }
 ],
 "metadata": {
  "kernelspec": {
   "display_name": "Python 3",
   "language": "python",
   "name": "python3"
  },
  "language_info": {
   "codemirror_mode": {
    "name": "ipython",
    "version": 3
   },
   "file_extension": ".py",
   "mimetype": "text/x-python",
   "name": "python",
   "nbconvert_exporter": "python",
   "pygments_lexer": "ipython3",
   "version": "3.6.4"
  }
 },
 "nbformat": 4,
 "nbformat_minor": 2
}
