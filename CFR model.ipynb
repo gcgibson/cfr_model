{
 "cells": [
  {
   "cell_type": "code",
   "execution_count": 62,
   "metadata": {},
   "outputs": [],
   "source": [
    "import jax.numpy as jnp\n",
    "from jax import random, vmap\n",
    "from jax.scipy.special import logsumexp\n",
    "import matplotlib.pyplot as plt\n",
    "import numpy as np\n",
    "import pandas as pd\n",
    "import seaborn as sns\n",
    "\n",
    "import numpyro\n",
    "from numpyro.diagnostics import hpdi\n",
    "import numpyro.distributions as dist\n",
    "from numpyro import handlers\n",
    "from numpyro.infer import MCMC, NUTS"
   ]
  },
  {
   "cell_type": "code",
   "execution_count": 63,
   "metadata": {},
   "outputs": [
    {
     "name": "stderr",
     "output_type": "stream",
     "text": [
      "/usr/local/Cellar/python3/3.6.4_2/Frameworks/Python.framework/Versions/3.6/lib/python3.6/site-packages/IPython/core/interactiveshell.py:3063: DtypeWarning: Columns (1) have mixed types.Specify dtype option on import or set low_memory=False.\n",
      "  interactivity=interactivity, compiler=compiler, result=result)\n"
     ]
    }
   ],
   "source": [
    "import pandas as pd\n",
    "import numpy as np\n",
    "DATA_URI = \"https://raw.githubusercontent.com/reichlab/covid19-forecast-hub/master/data-truth/truth-Incident%20Cases.csv\"\n",
    "\n",
    "df = pd.read_csv(DATA_URI)\n",
    "\n",
    "DATA_URI = \"https://raw.githubusercontent.com/reichlab/covid19-forecast-hub/master/data-truth/truth-Incident%20Deaths.csv\"\n",
    "\n",
    "\n",
    "df_deaths = pd.read_csv(DATA_URI)\n",
    "\n",
    "\n",
    "cases=df[df.location_name==\"California\"]\n",
    "deaths=df_deaths[df_deaths.location_name==\"California\"]\n",
    "joined_df = cases.set_index('date').join(deaths.set_index('date'),how='left',lsuffix='cases',rsuffix='deaths')"
   ]
  },
  {
   "cell_type": "code",
   "execution_count": 242,
   "metadata": {},
   "outputs": [
    {
     "name": "stdout",
     "output_type": "stream",
     "text": [
      "(317, 18)\n"
     ]
    }
   ],
   "source": [
    "import patsy\n",
    "df_full = pd.DataFrame({'X':np.arange(len(joined_df.valuecases.tolist())),\n",
    "                   'Y':np.array(joined_df.valuecases.tolist()),  # add your data here\n",
    "                    'D': np.array(joined_df.valuedeaths.tolist())\n",
    "                  })\n",
    "df_train = df_full.drop(df_full[df_full.Y ==0].index)\n",
    "df_train.Y=df_train.Y \n",
    "df_train.D= df_train.D \n",
    "\n",
    "\n",
    "\n",
    "B = patsy.dmatrix('bs(X, knots=np.arange(df_train.X.values[0],df_train.X.values[-1],25), degree=3)', df_train, \n",
    "                  return_type='matrix')\n",
    "\n",
    "num_data, num_basis = B.shape\n",
    "print (B.shape)"
   ]
  },
  {
   "cell_type": "code",
   "execution_count": 243,
   "metadata": {},
   "outputs": [],
   "source": [
    "def exp_pdf(lambda_,x):\n",
    "    return (lambda_*np.exp(-lambda_*x))"
   ]
  },
  {
   "cell_type": "code",
   "execution_count": null,
   "metadata": {},
   "outputs": [],
   "source": []
  },
  {
   "cell_type": "code",
   "execution_count": 244,
   "metadata": {},
   "outputs": [],
   "source": [
    "import sys\n",
    "np.set_printoptions(threshold=sys.maxsize)\n",
    "import math\n",
    "# building the expnential distribution mask\n",
    "lambda_ = 21\n",
    "mask = np.zeros((num_data,num_data))\n",
    "for i in np.arange(num_data):\n",
    "    tmp=np.flip(exp_pdf(21,np.arange(num_data))[:(i+1)])\n",
    "    mask[i,:(i+1)]=tmp\n",
    "        \n"
   ]
  },
  {
   "cell_type": "code",
   "execution_count": 245,
   "metadata": {},
   "outputs": [],
   "source": [
    "def LogisticRandomWalk(loc=1., scale=1e-2, drift=0., num_steps=100):\n",
    "    '''\n",
    "    Return distrubtion of exponentiated Gaussian random walk\n",
    "   \n",
    "    Variables are x_0, ..., x_{T-1}\n",
    "   \n",
    "    Dynamics in log-space are random walk with drift:\n",
    "       log(x_0) := log(loc)\n",
    "       log(x_t) := log(x_{t-1}) + drift + eps_t,    eps_t ~ N(0, scale)\n",
    "    \n",
    "    ==> Dynamics in non-log space are:\n",
    "        x_0 := loc\n",
    "        x_t := x_{t-1} * exp(drift + eps_t),    eps_t ~ N(0, scale)\n",
    "    '''\n",
    "   \n",
    "    logistic_loc = np.log(loc/(1-loc)) + drift * (np.arange(num_steps)+0.)\n",
    "   \n",
    "    return dist.TransformedDistribution(\n",
    "        dist.GaussianRandomWalk(scale=scale, num_steps=num_steps),\n",
    "        [\n",
    "            dist.transforms.AffineTransform(loc = logistic_loc, scale=1.),\n",
    "            dist.transforms.SigmoidTransform()\n",
    "        ]\n",
    "    )"
   ]
  },
  {
   "cell_type": "code",
   "execution_count": 282,
   "metadata": {},
   "outputs": [],
   "source": [
    "\n",
    "def model(B_local=None,Forecast=False,Forecast_det_prob=None,mask=None):\n",
    "    if Forecast==False:\n",
    "        det_prob = numpyro.sample(\"det_prob\",\n",
    "                                      LogisticRandomWalk(loc=.01, \n",
    "                                                         scale=5e-2, \n",
    "                                                         drift=0.,\n",
    "                                                         num_steps=num_data))\n",
    "    \n",
    "    else:\n",
    "        det_prob=Forecast_det_prob\n",
    "    a_raw =numpyro.sample('a_raw',dist.Normal(jnp.zeros(num_basis),1000*jnp.ones(num_basis)))\n",
    "    sigma = numpyro.sample('sigma', dist.Exponential(10))\n",
    "    sigma2 = numpyro.sample('sigma2', dist.Exponential(10))\n",
    "\n",
    "    y_hat =  numpyro.deterministic('c', jnp.dot(jnp.array(B_local), a_raw))\n",
    "    y = numpyro.sample('y', dist.Normal(y_hat, sigma2), obs=df_train.Y.values)\n",
    "   \n",
    "    y_hat_masked = jnp.matmul(mask,y_hat)\n",
    "    d_hat = jnp.flip(numpyro.deterministic('d', det_prob*y_hat_masked))\n",
    "  \n",
    "    #print (np.transpose(y_hat_tiled))\n",
    "\n",
    "    numpyro.sample('d_obs', dist.Normal(det_prob*y_hat_masked, sigma), obs=df_train.D.values)\n",
    "\n",
    "    #numpyro.sample('d',dist.Normal(d_hat,10),obs=df_train.D)"
   ]
  },
  {
   "cell_type": "code",
   "execution_count": 283,
   "metadata": {},
   "outputs": [
    {
     "name": "stderr",
     "output_type": "stream",
     "text": [
      "sample: 100%|██████████| 300/300 [00:23<00:00, 12.72it/s, 1023 steps of size 7.81e-03. acc. prob=0.94]\n"
     ]
    },
    {
     "name": "stdout",
     "output_type": "stream",
     "text": [
      "\n",
      "                   mean       std    median      5.0%     95.0%     n_eff     r_hat\n",
      "     a_raw[0]   6456.45    533.81   6356.64   6198.86   7123.12     18.46      1.09\n",
      "     a_raw[1]  -4753.05   2124.38  -5448.82  -7054.88  -1170.36      2.65      2.33\n",
      "     a_raw[2]   -358.88    211.08   -308.37   -716.83    -99.72      2.81      2.17\n",
      "     a_raw[3]  -1116.31    757.25  -1092.29  -2150.69     34.52      2.45      2.74\n",
      "     a_raw[4]  -6351.25   3098.95  -7490.75  -9523.48  -1384.66      2.53      2.63\n",
      "     a_raw[5]  -1118.09    624.18  -1371.77  -1888.40   -151.85      2.43      2.97\n",
      "     a_raw[6]  -3145.33   1777.30  -3529.05  -5354.51   -385.63      2.48      2.75\n",
      "     a_raw[7]  -1969.60   1196.86  -1973.36  -3549.83   -175.20      2.42      3.01\n",
      "     a_raw[8]   -225.81    130.37   -248.09   -378.26     30.75      3.03      2.15\n",
      "     a_raw[9]    872.24    581.11    753.07     -0.46   1697.84      2.50      2.84\n",
      "    a_raw[10]   1120.06    636.91   1163.05    136.98   2019.21      2.57      2.56\n",
      "    a_raw[11]  -1466.25    953.39  -1480.13  -2771.71     -5.18      2.44      3.05\n",
      "    a_raw[12]  -1065.03    627.72  -1165.48  -1923.03   -144.15      2.40      3.17\n",
      "    a_raw[13]   -440.17    419.94   -425.21  -1097.42     82.59      2.48      2.80\n",
      "    a_raw[14]   1135.59    737.82   1282.25    113.19   2096.60      2.35      3.23\n",
      "    a_raw[15]  14385.98   7849.52  15879.13   2258.46  24409.50      2.47      2.78\n",
      "    a_raw[16]  34423.19  15611.22  42685.40   6796.23  48254.52      2.75      2.11\n",
      "    a_raw[17]   2273.25   1532.36   2365.38    -11.30   4370.10      2.48      2.78\n",
      "  det_prob[0]      0.01      0.00      0.01      0.00      0.01      2.93      2.09\n",
      "  det_prob[1]      0.00      0.00      0.00      0.00      0.00      2.93      2.20\n",
      "  det_prob[2]      0.00      0.00      0.00      0.00      0.00      3.15      2.04\n",
      "  det_prob[3]      0.00      0.00      0.00      0.00      0.00      3.32      1.97\n",
      "  det_prob[4]      0.00      0.00      0.00      0.00      0.00      3.15      2.07\n",
      "  det_prob[5]      0.00      0.00      0.00      0.00      0.00      3.03      2.18\n",
      "  det_prob[6]      0.00      0.00      0.00      0.00      0.00      2.95      2.24\n",
      "  det_prob[7]      0.00      0.00      0.00      0.00      0.00      2.91      2.25\n",
      "  det_prob[8]      0.00      0.00      0.00      0.00      0.00      2.85      2.29\n",
      "  det_prob[9]      0.00      0.00      0.00      0.00      0.00      2.81      2.34\n",
      " det_prob[10]      0.00      0.00      0.00      0.00      0.00      2.85      2.31\n",
      " det_prob[11]      0.00      0.00      0.00      0.00      0.00      2.85      2.34\n",
      " det_prob[12]      0.00      0.00      0.00      0.00      0.00      2.85      2.35\n",
      " det_prob[13]      0.00      0.00      0.00      0.00      0.00      2.83      2.38\n",
      " det_prob[14]      0.00      0.00      0.00      0.00      0.00      2.80      2.45\n",
      " det_prob[15]      0.00      0.00      0.00      0.00      0.00      2.76      2.51\n",
      " det_prob[16]      0.00      0.00      0.00      0.00      0.00      2.77      2.56\n",
      " det_prob[17]      0.00      0.00      0.00      0.00      0.00      2.76      2.55\n",
      " det_prob[18]      0.00      0.00      0.00      0.00      0.00      2.72      2.64\n",
      " det_prob[19]      0.00      0.00      0.00      0.00      0.00      2.73      2.66\n",
      " det_prob[20]      0.00      0.00      0.00      0.00      0.00      2.72      2.68\n",
      " det_prob[21]      0.00      0.00      0.00      0.00      0.00      2.73      2.69\n",
      " det_prob[22]      0.00      0.00      0.00      0.00      0.00      2.77      2.63\n",
      " det_prob[23]      0.00      0.00      0.00      0.00      0.00      2.77      2.62\n",
      " det_prob[24]      0.00      0.00      0.00      0.00      0.00      2.77      2.63\n",
      " det_prob[25]      0.00      0.00      0.00      0.00      0.00      2.73      2.67\n",
      " det_prob[26]      0.00      0.00      0.00      0.00      0.00      2.73      2.69\n",
      " det_prob[27]      0.00      0.00      0.00      0.00      0.00      2.76      2.64\n",
      " det_prob[28]      0.00      0.00      0.00      0.00      0.00      2.77      2.60\n",
      " det_prob[29]      0.00      0.00      0.00      0.00      0.00      2.79      2.59\n",
      " det_prob[30]      0.00      0.00      0.00      0.00      0.00      2.73      2.64\n",
      " det_prob[31]      0.00      0.00      0.00      0.00      0.00      2.73      2.66\n",
      " det_prob[32]      0.00      0.00      0.00      0.00      0.00      2.75      2.63\n",
      " det_prob[33]      0.00      0.00      0.00      0.00      0.00      2.77      2.61\n",
      " det_prob[34]      0.00      0.00      0.00      0.00      0.00      2.82      2.51\n",
      " det_prob[35]      0.00      0.00      0.00      0.00      0.00      2.83      2.50\n",
      " det_prob[36]      0.00      0.00      0.00      0.00      0.00      2.86      2.48\n",
      " det_prob[37]      0.00      0.00      0.00      0.00      0.00      2.85      2.51\n",
      " det_prob[38]      0.00      0.00      0.00      0.00      0.00      2.81      2.53\n",
      " det_prob[39]      0.00      0.00      0.00      0.00      0.00      2.79      2.59\n",
      " det_prob[40]      0.00      0.00      0.00      0.00      0.00      2.86      2.50\n",
      " det_prob[41]      0.00      0.00      0.00      0.00      0.00      2.87      2.43\n",
      " det_prob[42]      0.00      0.00      0.00      0.00      0.00      2.95      2.34\n",
      " det_prob[43]      0.00      0.00      0.00      0.00      0.00      2.98      2.35\n",
      " det_prob[44]      0.00      0.00      0.00      0.00      0.00      2.97      2.33\n",
      " det_prob[45]      0.00      0.00      0.00      0.00      0.00      2.97      2.32\n",
      " det_prob[46]      0.00      0.00      0.00      0.00      0.00      2.96      2.32\n",
      " det_prob[47]      0.00      0.00      0.00      0.00      0.00      3.06      2.21\n",
      " det_prob[48]      0.00      0.00      0.00      0.00      0.00      3.12      2.13\n",
      " det_prob[49]      0.00      0.00      0.00      0.00      0.00      3.15      2.13\n",
      " det_prob[50]      0.00      0.00      0.00      0.00      0.00      3.10      2.13\n",
      " det_prob[51]      0.00      0.00      0.00      0.00      0.00      2.99      2.23\n",
      " det_prob[52]      0.00      0.00      0.00      0.00      0.00      2.98      2.25\n",
      " det_prob[53]      0.00      0.00      0.00      0.00      0.00      3.00      2.19\n",
      " det_prob[54]      0.00      0.00      0.00      0.00      0.00      3.02      2.19\n",
      " det_prob[55]      0.00      0.00      0.00      0.00      0.00      3.02      2.20\n",
      " det_prob[56]      0.00      0.00      0.00      0.00      0.00      3.08      2.12\n",
      " det_prob[57]      0.00      0.00      0.00      0.00      0.00      3.07      2.13\n",
      " det_prob[58]      0.00      0.00      0.00      0.00      0.00      3.06      2.13\n",
      " det_prob[59]      0.00      0.00      0.00      0.00      0.00      3.03      2.15\n",
      " det_prob[60]      0.00      0.00      0.00      0.00      0.00      3.00      2.17\n",
      " det_prob[61]      0.00      0.00      0.00      0.00      0.00      3.11      2.10\n",
      " det_prob[62]      0.00      0.00      0.00      0.00      0.00      3.04      2.18\n",
      " det_prob[63]      0.00      0.00      0.00      0.00      0.00      3.05      2.14\n",
      " det_prob[64]      0.00      0.00      0.00      0.00      0.00      2.94      2.23\n",
      " det_prob[65]      0.00      0.00      0.00      0.00      0.00      2.98      2.22\n",
      " det_prob[66]      0.00      0.00      0.00      0.00      0.00      2.92      2.27\n",
      " det_prob[67]      0.00      0.00      0.00      0.00      0.00      2.95      2.23\n",
      " det_prob[68]      0.00      0.00      0.00      0.00      0.00      2.97      2.19\n",
      " det_prob[69]      0.00      0.00      0.00      0.00      0.00      3.00      2.17\n",
      " det_prob[70]      0.00      0.00      0.00      0.00      0.00      2.92      2.23\n",
      " det_prob[71]      0.00      0.00      0.00      0.00      0.00      2.95      2.21\n",
      " det_prob[72]      0.00      0.00      0.00      0.00      0.00      2.97      2.18\n",
      " det_prob[73]      0.00      0.00      0.00      0.00      0.00      3.01      2.14\n",
      " det_prob[74]      0.00      0.00      0.00      0.00      0.00      2.98      2.14\n",
      " det_prob[75]      0.00      0.00      0.00      0.00      0.00      2.99      2.11\n",
      " det_prob[76]      0.00      0.00      0.00      0.00      0.00      2.98      2.14\n",
      " det_prob[77]      0.00      0.00      0.00      0.00      0.00      2.99      2.14\n",
      " det_prob[78]      0.00      0.00      0.00      0.00      0.00      3.02      2.13\n",
      " det_prob[79]      0.00      0.00      0.00      0.00      0.00      3.04      2.10\n",
      " det_prob[80]      0.00      0.00      0.00      0.00      0.00      3.04      2.11\n",
      " det_prob[81]      0.00      0.00      0.00      0.00      0.00      3.06      2.08\n",
      " det_prob[82]      0.00      0.00      0.00      0.00      0.00      3.13      2.04\n",
      " det_prob[83]      0.00      0.00      0.00      0.00      0.00      3.15      2.03\n",
      " det_prob[84]      0.00      0.00      0.00      0.00      0.00      3.19      1.99\n",
      " det_prob[85]      0.00      0.00      0.00      0.00      0.00      3.18      2.00\n",
      " det_prob[86]      0.00      0.00      0.00      0.00      0.00      3.18      1.99\n",
      " det_prob[87]      0.00      0.00      0.00      0.00      0.00      3.26      1.98\n",
      " det_prob[88]      0.00      0.00      0.00      0.00      0.00      3.21      2.02\n",
      " det_prob[89]      0.00      0.00      0.00      0.00      0.00      3.30      1.98\n",
      " det_prob[90]      0.00      0.00      0.00      0.00      0.00      3.33      1.97\n",
      " det_prob[91]      0.00      0.00      0.00      0.00      0.00      3.41      1.92\n",
      " det_prob[92]      0.00      0.00      0.00      0.00      0.00      3.56      1.85\n",
      " det_prob[93]      0.00      0.00      0.00      0.00      0.00      3.52      1.88\n",
      " det_prob[94]      0.00      0.00      0.00      0.00      0.00      3.64      1.82\n",
      " det_prob[95]      0.00      0.00      0.00      0.00      0.00      3.77      1.79\n",
      " det_prob[96]      0.00      0.00      0.00      0.00      0.00      3.79      1.78\n",
      " det_prob[97]      0.00      0.00      0.00      0.00      0.00      3.97      1.71\n",
      " det_prob[98]      0.00      0.00      0.00      0.00      0.00      4.43      1.60\n",
      " det_prob[99]      0.00      0.00      0.00      0.00      0.00      4.24      1.63\n",
      "det_prob[100]      0.00      0.00      0.00      0.00      0.00      4.24      1.65\n",
      "det_prob[101]      0.00      0.00      0.00      0.00      0.00      4.48      1.60\n",
      "det_prob[102]      0.00      0.00      0.00      0.00      0.00      4.84      1.53\n",
      "det_prob[103]      0.00      0.00      0.00      0.00      0.00      4.93      1.52\n",
      "det_prob[104]      0.00      0.00      0.00      0.00      0.00      5.51      1.45\n",
      "det_prob[105]      0.00      0.00      0.00      0.00      0.00      6.03      1.39\n",
      "det_prob[106]      0.00      0.00      0.00      0.00      0.00      6.78      1.35\n",
      "det_prob[107]      0.00      0.00      0.00      0.00      0.00      7.71      1.30\n",
      "det_prob[108]      0.00      0.00      0.00      0.00      0.00      8.52      1.27\n",
      "det_prob[109]      0.00      0.00      0.00      0.00      0.00      9.37      1.25\n",
      "det_prob[110]      0.00      0.00      0.00      0.00      0.00      9.61      1.25\n",
      "det_prob[111]      0.00      0.00      0.00      0.00      0.00     10.94      1.22\n",
      "det_prob[112]      0.00      0.00      0.00      0.00      0.00     12.27      1.20\n",
      "det_prob[113]      0.00      0.00      0.00      0.00      0.00     14.25      1.16\n",
      "det_prob[114]      0.00      0.00      0.00      0.00      0.00     17.00      1.14\n",
      "det_prob[115]      0.00      0.00      0.00      0.00      0.00     18.55      1.12\n",
      "det_prob[116]      0.00      0.00      0.00      0.00      0.00     20.05      1.11\n",
      "det_prob[117]      0.00      0.00      0.00      0.00      0.00     21.88      1.09\n",
      "det_prob[118]      0.00      0.00      0.00      0.00      0.00     29.40      1.07\n",
      "det_prob[119]      0.00      0.00      0.00      0.00      0.00     32.04      1.06\n",
      "det_prob[120]      0.00      0.00      0.00      0.00      0.00     39.12      1.04\n",
      "det_prob[121]      0.00      0.00      0.00      0.00      0.00     46.71      1.02\n",
      "det_prob[122]      0.00      0.00      0.00      0.00      0.00     47.98      1.01\n",
      "det_prob[123]      0.00      0.00      0.00      0.00      0.00     58.34      1.01\n",
      "det_prob[124]      0.00      0.00      0.00      0.00      0.00     61.02      1.01\n",
      "det_prob[125]      0.00      0.00      0.00      0.00      0.00     64.07      1.00\n",
      "det_prob[126]      0.00      0.00      0.00      0.00      0.00     63.20      1.00\n",
      "det_prob[127]      0.00      0.00      0.00      0.00      0.00     60.16      1.00\n",
      "det_prob[128]      0.00      0.00      0.00      0.00      0.00     62.78      0.99\n",
      "det_prob[129]      0.00      0.00      0.00      0.00      0.00     64.73      1.00\n",
      "det_prob[130]      0.00      0.00      0.00      0.00      0.00     66.77      1.00\n",
      "det_prob[131]      0.00      0.00      0.00      0.00      0.00     67.29      1.00\n",
      "det_prob[132]      0.00      0.00      0.00      0.00      0.00     67.09      1.00\n",
      "det_prob[133]      0.00      0.00      0.00      0.00      0.00     70.08      1.00\n",
      "det_prob[134]      0.00      0.00      0.00      0.00      0.00     70.57      1.00\n",
      "det_prob[135]      0.00      0.00      0.00      0.00      0.00     69.25      1.00\n",
      "det_prob[136]      0.00      0.00      0.00      0.00      0.00     73.19      1.00\n",
      "det_prob[137]      0.00      0.00      0.00      0.00      0.00     73.47      1.00\n",
      "det_prob[138]      0.00      0.00      0.00      0.00      0.00     69.29      1.01\n",
      "det_prob[139]      0.00      0.00      0.00      0.00      0.00     69.92      1.02\n",
      "det_prob[140]      0.00      0.00      0.00      0.00      0.00     66.82      1.03\n",
      "det_prob[141]      0.00      0.00      0.00      0.00      0.00     66.63      1.02\n",
      "det_prob[142]      0.00      0.00      0.00      0.00      0.00     66.66      1.03\n",
      "det_prob[143]      0.00      0.00      0.00      0.00      0.00     66.70      1.03\n",
      "det_prob[144]      0.00      0.00      0.00      0.00      0.00     62.25      1.04\n",
      "det_prob[145]      0.00      0.00      0.00      0.00      0.00     60.62      1.04\n",
      "det_prob[146]      0.00      0.00      0.00      0.00      0.00     59.66      1.05\n",
      "det_prob[147]      0.00      0.00      0.00      0.00      0.00     54.49      1.05\n",
      "det_prob[148]      0.00      0.00      0.00      0.00      0.00     53.98      1.06\n",
      "det_prob[149]      0.00      0.00      0.00      0.00      0.00     57.85      1.05\n",
      "det_prob[150]      0.00      0.00      0.00      0.00      0.00     59.22      1.04\n",
      "det_prob[151]      0.00      0.00      0.00      0.00      0.00     59.46      1.04\n",
      "det_prob[152]      0.00      0.00      0.00      0.00      0.00     60.63      1.05\n",
      "det_prob[153]      0.00      0.00      0.00      0.00      0.00     58.90      1.06\n",
      "det_prob[154]      0.00      0.00      0.00      0.00      0.00     59.48      1.05\n",
      "det_prob[155]      0.00      0.00      0.00      0.00      0.00     56.43      1.06\n",
      "det_prob[156]      0.00      0.00      0.00      0.00      0.00     62.80      1.06\n",
      "det_prob[157]      0.00      0.00      0.00      0.00      0.00     61.08      1.05\n",
      "det_prob[158]      0.00      0.00      0.00      0.00      0.00     58.59      1.06\n",
      "det_prob[159]      0.00      0.00      0.00      0.00      0.00     61.37      1.05\n",
      "det_prob[160]      0.00      0.00      0.00      0.00      0.00     58.62      1.07\n",
      "det_prob[161]      0.00      0.00      0.00      0.00      0.00     57.59      1.06\n",
      "det_prob[162]      0.00      0.00      0.00      0.00      0.00     60.01      1.06\n",
      "det_prob[163]      0.00      0.00      0.00      0.00      0.00     52.43      1.07\n",
      "det_prob[164]      0.00      0.00      0.00      0.00      0.00     48.10      1.08\n",
      "det_prob[165]      0.00      0.00      0.00      0.00      0.00     56.70      1.06\n",
      "det_prob[166]      0.00      0.00      0.00      0.00      0.00     55.23      1.05\n",
      "det_prob[167]      0.00      0.00      0.00      0.00      0.00     58.60      1.03\n",
      "det_prob[168]      0.00      0.00      0.00      0.00      0.00     57.54      1.04\n",
      "det_prob[169]      0.00      0.00      0.00      0.00      0.00     58.46      1.02\n",
      "det_prob[170]      0.00      0.00      0.00      0.00      0.00     54.11      1.01\n",
      "det_prob[171]      0.00      0.00      0.00      0.00      0.00     58.83      1.01\n",
      "det_prob[172]      0.00      0.00      0.00      0.00      0.00     60.18      1.01\n",
      "det_prob[173]      0.00      0.00      0.00      0.00      0.00     61.48      1.00\n",
      "det_prob[174]      0.00      0.00      0.00      0.00      0.00     63.54      1.00\n",
      "det_prob[175]      0.00      0.00      0.00      0.00      0.00     67.23      1.00\n",
      "det_prob[176]      0.00      0.00      0.00      0.00      0.00     64.87      1.00\n",
      "det_prob[177]      0.00      0.00      0.00      0.00      0.00     66.04      1.00\n",
      "det_prob[178]      0.00      0.00      0.00      0.00      0.00     63.89      1.00\n",
      "det_prob[179]      0.00      0.00      0.00      0.00      0.00     65.36      1.00\n",
      "det_prob[180]      0.00      0.00      0.00      0.00      0.00     65.63      1.01\n",
      "det_prob[181]      0.00      0.00      0.00      0.00      0.00     67.62      1.02\n",
      "det_prob[182]      0.00      0.00      0.00      0.00      0.00     69.46      1.03\n",
      "det_prob[183]      0.00      0.00      0.00      0.00      0.00     61.50      1.04\n",
      "det_prob[184]      0.00      0.00      0.00      0.00      0.00     58.92      1.05\n",
      "det_prob[185]      0.00      0.00      0.00      0.00      0.00     43.83      1.08\n",
      "det_prob[186]      0.00      0.00      0.00      0.00      0.00     32.19      1.10\n",
      "det_prob[187]      0.00      0.00      0.00      0.00      0.00     21.40      1.11\n",
      "det_prob[188]      0.00      0.00      0.00      0.00      0.00     16.09      1.16\n",
      "det_prob[189]      0.00      0.00      0.00      0.00      0.00     12.54      1.20\n",
      "det_prob[190]      0.00      0.00      0.00      0.00      0.00     11.14      1.22\n",
      "det_prob[191]      0.00      0.00      0.00      0.00      0.00     11.19      1.23\n",
      "det_prob[192]      0.00      0.00      0.00      0.00      0.00     11.53      1.24\n",
      "det_prob[193]      0.00      0.00      0.00      0.00      0.00     10.03      1.25\n",
      "det_prob[194]      0.00      0.00      0.00      0.00      0.00      9.17      1.27\n",
      "det_prob[195]      0.00      0.00      0.00      0.00      0.00      8.36      1.29\n",
      "det_prob[196]      0.00      0.00      0.00      0.00      0.00      7.91      1.30\n",
      "det_prob[197]      0.00      0.00      0.00      0.00      0.00      6.99      1.35\n",
      "det_prob[198]      0.00      0.00      0.00      0.00      0.00      7.92      1.30\n",
      "det_prob[199]      0.00      0.00      0.00      0.00      0.00      8.09      1.29\n",
      "det_prob[200]      0.00      0.00      0.00      0.00      0.00      7.26      1.32\n",
      "det_prob[201]      0.00      0.00      0.00      0.00      0.00      6.73      1.34\n",
      "det_prob[202]      0.00      0.00      0.00      0.00      0.00      6.23      1.39\n",
      "det_prob[203]      0.00      0.00      0.00      0.00      0.00      5.65      1.44\n",
      "det_prob[204]      0.00      0.00      0.00      0.00      0.00      5.70      1.44\n",
      "det_prob[205]      0.00      0.00      0.00      0.00      0.00      5.87      1.42\n",
      "det_prob[206]      0.00      0.00      0.00      0.00      0.00      6.14      1.38\n",
      "det_prob[207]      0.00      0.00      0.00      0.00      0.00      6.64      1.37\n",
      "det_prob[208]      0.00      0.00      0.00      0.00      0.00      6.35      1.39\n",
      "det_prob[209]      0.00      0.00      0.00      0.00      0.00      6.47      1.37\n",
      "det_prob[210]      0.00      0.00      0.00      0.00      0.00      7.02      1.34\n",
      "det_prob[211]      0.00      0.00      0.00      0.00      0.00      7.76      1.29\n",
      "det_prob[212]      0.00      0.00      0.00      0.00      0.00      8.50      1.28\n",
      "det_prob[213]      0.00      0.00      0.00      0.00      0.00      7.49      1.32\n",
      "det_prob[214]      0.00      0.00      0.00      0.00      0.00      7.59      1.32\n",
      "det_prob[215]      0.00      0.00      0.00      0.00      0.00      7.87      1.31\n",
      "det_prob[216]      0.00      0.00      0.00      0.00      0.00      7.69      1.32\n",
      "det_prob[217]      0.00      0.00      0.00      0.00      0.00      7.03      1.35\n",
      "det_prob[218]      0.00      0.00      0.00      0.00      0.00      7.51      1.31\n",
      "det_prob[219]      0.00      0.00      0.00      0.00      0.00      8.21      1.29\n",
      "det_prob[220]      0.00      0.00      0.00      0.00      0.00      8.98      1.27\n",
      "det_prob[221]      0.00      0.00      0.00      0.00      0.00     10.06      1.25\n",
      "det_prob[222]      0.00      0.00      0.00      0.00      0.00      9.31      1.27\n",
      "det_prob[223]      0.00      0.00      0.00      0.00      0.00     10.31      1.25\n",
      "det_prob[224]      0.00      0.00      0.00      0.00      0.00     11.21      1.22\n",
      "det_prob[225]      0.00      0.00      0.00      0.00      0.00     12.15      1.21\n",
      "det_prob[226]      0.00      0.00      0.00      0.00      0.00     12.82      1.19\n",
      "det_prob[227]      0.00      0.00      0.00      0.00      0.00     13.29      1.19\n",
      "det_prob[228]      0.00      0.00      0.00      0.00      0.00     16.32      1.16\n",
      "det_prob[229]      0.00      0.00      0.00      0.00      0.00     15.54      1.15\n",
      "det_prob[230]      0.00      0.00      0.00      0.00      0.00     19.24      1.13\n",
      "det_prob[231]      0.00      0.00      0.00      0.00      0.00     19.47      1.12\n",
      "det_prob[232]      0.00      0.00      0.00      0.00      0.00     25.28      1.09\n",
      "det_prob[233]      0.00      0.00      0.00      0.00      0.00     24.61      1.09\n",
      "det_prob[234]      0.00      0.00      0.00      0.00      0.00     21.73      1.11\n",
      "det_prob[235]      0.00      0.00      0.00      0.00      0.00     28.06      1.09\n",
      "det_prob[236]      0.00      0.00      0.00      0.00      0.00     33.12      1.07\n",
      "det_prob[237]      0.00      0.00      0.00      0.00      0.00     38.30      1.06\n",
      "det_prob[238]      0.00      0.00      0.00      0.00      0.00     52.04      1.04\n",
      "det_prob[239]      0.00      0.00      0.00      0.00      0.00     57.83      1.02\n",
      "det_prob[240]      0.00      0.00      0.00      0.00      0.00     61.38      1.01\n",
      "det_prob[241]      0.00      0.00      0.00      0.00      0.00     62.50      1.01\n",
      "det_prob[242]      0.00      0.00      0.00      0.00      0.00     61.17      1.00\n",
      "det_prob[243]      0.00      0.00      0.00      0.00      0.00     66.01      1.00\n",
      "det_prob[244]      0.00      0.00      0.00      0.00      0.00     62.15      1.00\n",
      "det_prob[245]      0.00      0.00      0.00      0.00      0.00     67.44      1.00\n",
      "det_prob[246]      0.00      0.00      0.00      0.00      0.00     68.68      1.00\n",
      "det_prob[247]      0.00      0.00      0.00      0.00      0.00     72.23      1.00\n",
      "det_prob[248]      0.00      0.00      0.00      0.00      0.00     63.08      1.00\n",
      "det_prob[249]      0.00      0.00      0.00      0.00      0.00     64.31      1.01\n",
      "det_prob[250]      0.00      0.00      0.00      0.00      0.00     63.37      1.01\n",
      "det_prob[251]      0.00      0.00      0.00      0.00      0.00     61.45      1.02\n",
      "det_prob[252]      0.00      0.00      0.00      0.00      0.00     59.15      1.02\n",
      "det_prob[253]      0.00      0.00      0.00      0.00      0.00     60.61      1.03\n",
      "det_prob[254]      0.00      0.00      0.00      0.00      0.00     57.24      1.04\n",
      "det_prob[255]      0.00      0.00      0.00      0.00      0.00     55.55      1.05\n",
      "det_prob[256]      0.00      0.00      0.00      0.00      0.00     51.53      1.06\n",
      "det_prob[257]      0.00      0.00      0.00      0.00      0.00     46.31      1.07\n",
      "det_prob[258]      0.00      0.00      0.00      0.00      0.00     37.93      1.08\n",
      "det_prob[259]      0.00      0.00      0.00      0.00      0.00     29.98      1.09\n",
      "det_prob[260]      0.00      0.00      0.00      0.00      0.00     24.79      1.10\n",
      "det_prob[261]      0.00      0.00      0.00      0.00      0.00     23.68      1.10\n",
      "det_prob[262]      0.00      0.00      0.00      0.00      0.00     20.82      1.12\n",
      "det_prob[263]      0.00      0.00      0.00      0.00      0.00     21.01      1.13\n",
      "det_prob[264]      0.00      0.00      0.00      0.00      0.00     16.85      1.14\n",
      "det_prob[265]      0.00      0.00      0.00      0.00      0.00     15.52      1.15\n",
      "det_prob[266]      0.00      0.00      0.00      0.00      0.00     12.73      1.18\n",
      "det_prob[267]      0.00      0.00      0.00      0.00      0.00     11.34      1.20\n",
      "det_prob[268]      0.00      0.00      0.00      0.00      0.00     10.28      1.22\n",
      "det_prob[269]      0.00      0.00      0.00      0.00      0.00      9.64      1.23\n",
      "det_prob[270]      0.00      0.00      0.00      0.00      0.00     10.30      1.21\n",
      "det_prob[271]      0.00      0.00      0.00      0.00      0.00      9.36      1.23\n",
      "det_prob[272]      0.00      0.00      0.00      0.00      0.00      8.81      1.24\n",
      "det_prob[273]      0.00      0.00      0.00      0.00      0.00      8.27      1.25\n",
      "det_prob[274]      0.00      0.00      0.00      0.00      0.00      7.87      1.26\n",
      "det_prob[275]      0.00      0.00      0.00      0.00      0.00      7.76      1.26\n",
      "det_prob[276]      0.00      0.00      0.00      0.00      0.00      7.32      1.27\n",
      "det_prob[277]      0.00      0.00      0.00      0.00      0.00      6.86      1.30\n",
      "det_prob[278]      0.00      0.00      0.00      0.00      0.00      6.43      1.32\n",
      "det_prob[279]      0.00      0.00      0.00      0.00      0.00      5.98      1.35\n",
      "det_prob[280]      0.00      0.00      0.00      0.00      0.00      5.83      1.35\n",
      "det_prob[281]      0.00      0.00      0.00      0.00      0.00      5.75      1.34\n",
      "det_prob[282]      0.00      0.00      0.00      0.00      0.00      6.04      1.32\n",
      "det_prob[283]      0.00      0.00      0.00      0.00      0.00      5.93      1.33\n",
      "det_prob[284]      0.00      0.00      0.00      0.00      0.00      5.78      1.34\n",
      "det_prob[285]      0.00      0.00      0.00      0.00      0.00      5.78      1.34\n",
      "det_prob[286]      0.00      0.00      0.00      0.00      0.00      5.47      1.36\n",
      "det_prob[287]      0.00      0.00      0.00      0.00      0.00      5.72      1.34\n",
      "det_prob[288]      0.00      0.00      0.00      0.00      0.00      5.84      1.32\n",
      "det_prob[289]      0.00      0.00      0.00      0.00      0.00      6.16      1.30\n",
      "det_prob[290]      0.00      0.00      0.00      0.00      0.00      6.28      1.29\n",
      "det_prob[291]      0.00      0.00      0.00      0.00      0.00      5.60      1.33\n",
      "det_prob[292]      0.00      0.00      0.00      0.00      0.00      5.96      1.30\n",
      "det_prob[293]      0.00      0.00      0.00      0.00      0.00      5.89      1.29\n",
      "det_prob[294]      0.00      0.00      0.00      0.00      0.00      5.88      1.29\n",
      "det_prob[295]      0.00      0.00      0.00      0.00      0.00      5.71      1.30\n",
      "det_prob[296]      0.00      0.00      0.00      0.00      0.00      6.03      1.28\n",
      "det_prob[297]      0.00      0.00      0.00      0.00      0.00      6.14      1.28\n",
      "det_prob[298]      0.00      0.00      0.00      0.00      0.00      6.29      1.27\n",
      "det_prob[299]      0.00      0.00      0.00      0.00      0.00      6.22      1.27\n",
      "det_prob[300]      0.00      0.00      0.00      0.00      0.00      6.11      1.27\n",
      "det_prob[301]      0.00      0.00      0.00      0.00      0.00      6.01      1.28\n",
      "det_prob[302]      0.00      0.00      0.00      0.00      0.00      6.18      1.27\n",
      "det_prob[303]      0.00      0.00      0.00      0.00      0.00      6.27      1.27\n",
      "det_prob[304]      0.00      0.00      0.00      0.00      0.00      6.24      1.27\n",
      "det_prob[305]      0.00      0.00      0.00      0.00      0.00      6.16      1.27\n",
      "det_prob[306]      0.00      0.00      0.00      0.00      0.00      6.12      1.27\n",
      "det_prob[307]      0.00      0.00      0.00      0.00      0.00      6.45      1.25\n",
      "det_prob[308]      0.00      0.00      0.00      0.00      0.00      6.22      1.26\n",
      "det_prob[309]      0.00      0.00      0.00      0.00      0.00      6.14      1.27\n",
      "det_prob[310]      0.00      0.00      0.00      0.00      0.00      6.26      1.27\n",
      "det_prob[311]      0.00      0.00      0.00      0.00      0.00      6.01      1.28\n",
      "det_prob[312]      0.00      0.00      0.00      0.00      0.00      6.08      1.28\n",
      "det_prob[313]      0.00      0.00      0.00      0.00      0.00      5.82      1.30\n",
      "det_prob[314]      0.00      0.00      0.00      0.00      0.00      5.92      1.30\n",
      "det_prob[315]      0.00      0.00      0.00      0.00      0.00      5.70      1.32\n",
      "det_prob[316]      0.00      0.00      0.00      0.00      0.00      5.53      1.33\n",
      "        sigma     39.13      2.71     38.30     35.14     43.22      3.34      1.80\n",
      "       sigma2   1020.68    246.83    906.92    782.46   1430.97      2.73      2.20\n",
      "\n",
      "Number of divergences: 0\n"
     ]
    }
   ],
   "source": [
    "rng_key = random.PRNGKey(0)\n",
    "rng_key, rng_key_ = random.split(rng_key)\n",
    "\n",
    "num_warmup, num_samples = 100, 200\n",
    "\n",
    "# Run NUTS.\n",
    "kernel = NUTS(model)\n",
    "mcmc = MCMC(kernel, num_warmup, num_samples)\n",
    "mcmc.run(rng_key_,B_local=B,Forecast=False,Forecast_det_prob=None,mask=mask)\n",
    "mcmc.print_summary()\n",
    "samples_1 = mcmc.get_samples()"
   ]
  },
  {
   "cell_type": "code",
   "execution_count": 284,
   "metadata": {},
   "outputs": [
    {
     "data": {
      "text/plain": [
       "<matplotlib.collections.PathCollection at 0x1468a5978>"
      ]
     },
     "execution_count": 284,
     "metadata": {},
     "output_type": "execute_result"
    },
    {
     "data": {
      "image/png": "[encoded data removed]",
      "text/plain": [
       "<Figure size 432x288 with 1 Axes>"
      ]
     },
     "metadata": {},
     "output_type": "display_data"
    }
   ],
   "source": [
    "plt.plot(df_train.X.values,samples_1['d'].mean(axis=0))\n",
    "plt.scatter(df_train.X.values,df_train.D.values,color='orange')"
   ]
  },
  {
   "cell_type": "code",
   "execution_count": 285,
   "metadata": {},
   "outputs": [
    {
     "data": {
      "text/plain": [
       "<matplotlib.collections.PathCollection at 0x146cbc898>"
      ]
     },
     "execution_count": 285,
     "metadata": {},
     "output_type": "execute_result"
    },
    {
     "data": {
      "image/png": "[encoded data removed]",
      "text/plain": [
       "<Figure size 432x288 with 1 Axes>"
      ]
     },
     "metadata": {},
     "output_type": "display_data"
    }
   ],
   "source": [
    "plt.plot(df_train.X.values,samples_1['c'].mean(axis=0))\n",
    "plt.scatter(df_train.X.values,df_train.Y.values,color='orange')"
   ]
  },
  {
   "cell_type": "code",
   "execution_count": 274,
   "metadata": {},
   "outputs": [],
   "source": [
    "lambda_ = 21\n",
    "forecast_mask = np.zeros((27,27))\n",
    "for i in np.arange(27):\n",
    "    for j in np.arange(27):\n",
    "        if j-i >=0:\n",
    "            tmp = exp_pdf(lambda_,np.abs(i-j))\n",
    "            if math.isinf(tmp):\n",
    "                forecast_mask[27-i-1,j] = 0\n",
    "            else:\n",
    "                forecast_mask[27-i-1,j] = tmp\n",
    "        else:\n",
    "            forecast_mask[27-i-1,j] = 0\n",
    "        "
   ]
  },
  {
   "cell_type": "code",
   "execution_count": 275,
   "metadata": {},
   "outputs": [],
   "source": [
    "new_data = {\"X\":np.arange(df_train.shape[0],df_train.shape[0]+27,1)}\n",
    "B_predict = patsy.build_design_matrices([B.design_info], new_data)[0]\n",
    "from numpyro.infer import Predictive\n",
    "det_prob_forecast= samples_1['det_prob'].mean(axis=0)[-1]\n",
    "predictive = Predictive(model, samples_1)\n",
    "predictions = predictive(rng_key_,B_local=B_predict,Forecast=True,Forecast_det_prob=det_prob_forecast,mask=forecast_mask)['d']\n"
   ]
  },
  {
   "cell_type": "code",
   "execution_count": 276,
   "metadata": {},
   "outputs": [
    {
     "data": {
      "text/plain": [
       "(200, 27)"
      ]
     },
     "execution_count": 276,
     "metadata": {},
     "output_type": "execute_result"
    }
   ],
   "source": [
    "predictions.shape"
   ]
  },
  {
   "cell_type": "code",
   "execution_count": 277,
   "metadata": {},
   "outputs": [
    {
     "name": "stdout",
     "output_type": "stream",
     "text": [
      "344\n"
     ]
    },
    {
     "data": {
      "text/plain": [
       "[<matplotlib.lines.Line2D at 0x145b0d780>]"
      ]
     },
     "execution_count": 277,
     "metadata": {},
     "output_type": "execute_result"
    },
    {
     "data": {
      "image/png": "[encoded data removed]",
      "text/plain": [
       "<Figure size 432x288 with 1 Axes>"
      ]
     },
     "metadata": {},
     "output_type": "display_data"
    }
   ],
   "source": [
    "full_mean = np.concatenate((samples_1['d'].mean(axis=0),predictions.mean(axis=0)))\n",
    "full_upq = np.concatenate((samples_1['d'].mean(axis=0),np.quantile(predictions,.975,axis=0)))\n",
    "full_lrq = np.concatenate((samples_1['d'].mean(axis=0),np.quantile(predictions,.025,axis=0)))\n",
    "\n",
    "print (len(full_upq))\n",
    "full_mean_x = np.concatenate((df_train.X.values,np.arange(df_train.X.values[-1],df_train.X.values[-1]+27)))\n",
    "plt.plot(full_mean_x,full_mean)\n",
    "plt.scatter(df_train.X.values,df_train.D.values,color='orange',alpha=.4)\n",
    "plt.plot(full_mean_x,full_upq,color='blue',alpha=.4)\n",
    "plt.plot(full_mean_x,full_lrq,color='blue',alpha=.4)\n",
    "\n"
   ]
  },
  {
   "cell_type": "code",
   "execution_count": 254,
   "metadata": {},
   "outputs": [
    {
     "data": {
      "text/plain": [
       "[<matplotlib.lines.Line2D at 0x13ec38898>]"
      ]
     },
     "execution_count": 254,
     "metadata": {},
     "output_type": "execute_result"
    },
    {
     "data": {
      "image/png": "[encoded data removed]",
      "text/plain": [
       "<Figure size 432x288 with 1 Axes>"
      ]
     },
     "metadata": {},
     "output_type": "display_data"
    }
   ],
   "source": [
    "plt.plot(full_mean_x,np.exp(full_mean))\n",
    "plt.scatter(df_train.X.values,np.exp(df_train.D.values),color='orange',alpha=.4)\n",
    "plt.plot(full_mean_x,np.exp(full_upq),color='blue',alpha=.4)\n",
    "plt.plot(full_mean_x,np.exp(full_lrq),color='blue',alpha=.4)"
   ]
  },
  {
   "cell_type": "code",
   "execution_count": null,
   "metadata": {},
   "outputs": [],
   "source": []
  },
  {
   "cell_type": "code",
   "execution_count": null,
   "metadata": {},
   "outputs": [],
   "source": []
  }
 ],
 "metadata": {
  "kernelspec": {
   "display_name": "Python 3",
   "language": "python",
   "name": "python3"
  },
  "language_info": {
   "codemirror_mode": {
    "name": "ipython",
    "version": 3
   },
   "file_extension": ".py",
   "mimetype": "text/x-python",
   "name": "python",
   "nbconvert_exporter": "python",
   "pygments_lexer": "ipython3",
   "version": "3.6.4"
  }
 },
 "nbformat": 4,
 "nbformat_minor": 2
}
