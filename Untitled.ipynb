{
 "cells": [
  {
   "cell_type": "code",
   "execution_count": 52,
   "metadata": {},
   "outputs": [],
   "source": [
    "import jax.numpy as jnp\n",
    "from jax import random, vmap\n",
    "from jax.scipy.special import logsumexp\n",
    "import matplotlib.pyplot as plt\n",
    "import numpy as np\n",
    "import pandas as pd\n",
    "import seaborn as sns\n",
    "\n",
    "import numpyro\n",
    "from numpyro.diagnostics import hpdi\n",
    "import numpyro.distributions as dist\n",
    "from numpyro import handlers\n",
    "from numpyro.infer import MCMC, NUTS"
   ]
  },
  {
   "cell_type": "code",
   "execution_count": 53,
   "metadata": {},
   "outputs": [
    {
     "name": "stderr",
     "output_type": "stream",
     "text": [
      "/usr/local/Cellar/python3/3.6.4_2/Frameworks/Python.framework/Versions/3.6/lib/python3.6/site-packages/IPython/core/interactiveshell.py:3063: DtypeWarning: Columns (1) have mixed types.Specify dtype option on import or set low_memory=False.\n",
      "  interactivity=interactivity, compiler=compiler, result=result)\n"
     ]
    }
   ],
   "source": [
    "import pandas as pd\n",
    "import numpy as np\n",
    "DATA_URI = \"https://raw.githubusercontent.com/reichlab/covid19-forecast-hub/master/data-truth/truth-Incident%20Cases.csv\"\n",
    "\n",
    "df = pd.read_csv(DATA_URI)\n",
    "\n",
    "DATA_URI = \"https://raw.githubusercontent.com/reichlab/covid19-forecast-hub/master/data-truth/truth-Incident%20Deaths.csv\"\n",
    "\n",
    "\n",
    "df_deaths = pd.read_csv(DATA_URI)\n",
    "\n",
    "\n",
    "cases=df[df.location_name==\"Massachusetts\"]\n",
    "deaths=df_deaths[df_deaths.location_name==\"Massachusetts\"]\n",
    "joined_df_full = cases.set_index('date').join(deaths.set_index('date'),how='left',lsuffix='cases',rsuffix='deaths')\n",
    "joined_df = joined_df_full.loc[joined_df_full.index <= '2020-11-08']\n"
   ]
  },
  {
   "cell_type": "code",
   "execution_count": 54,
   "metadata": {},
   "outputs": [
    {
     "name": "stdout",
     "output_type": "stream",
     "text": [
      "[0.         0.         0.         0.         0.         0.\n",
      " 0.         0.         0.00419111 0.03604359 0.1533948  0.44006706\n",
      " 0.79631182 1.         0.92623638 0.81726739 0.68566639 0.48197821\n",
      " 0.39731769 0.39396479 0.25817267 0.19614417 0.16932104 0.13746857\n",
      " 0.11902766 0.08885163 0.08214585 0.0913663  0.08130763 0.08633697\n",
      " 0.06957251 0.10729254 0.06705784 0.07124895 0.0838223  0.07879296\n",
      " 0.08885163 0.07879296 0.11148365 0.10645432 0.12489522 0.11399832]\n"
     ]
    },
    {
     "data": {
      "text/plain": [
       "[<matplotlib.lines.Line2D at 0x1422f52e8>]"
      ]
     },
     "execution_count": 54,
     "metadata": {},
     "output_type": "execute_result"
    },
    {
     "data": {
      "image/png": "[encoded data removed]",
      "text/plain": [
       "<Figure size 432x288 with 1 Axes>"
      ]
     },
     "metadata": {},
     "output_type": "display_data"
    }
   ],
   "source": [
    "ohlc_dict = {\n",
    "'locationcases':'first',\n",
    "'location_namecases':'first',\n",
    "'valuecases':'sum',\n",
    "'locationdeaths':'first',\n",
    "'location_namedeaths':'first',\n",
    "'valuedeaths':'sum'}\n",
    "joined_df.index = pd.to_datetime(joined_df.index)\n",
    "df_resampled = joined_df.resample('W-Sun').agg(ohlc_dict)\n",
    "joined_df = df_resampled\n",
    "\n",
    "df_resampled.valuedeaths = df_resampled.valuedeaths.values /np.max(df_resampled.valuedeaths.values )\n",
    "\n",
    "df_resampled.valuecases = df_resampled.valuecases.values /np.max(df_resampled.valuecases.values )\n",
    "\n",
    "print (df_resampled.valuedeaths.values)\n",
    "plt.plot(df_resampled.valuedeaths.values)"
   ]
  },
  {
   "cell_type": "code",
   "execution_count": 55,
   "metadata": {},
   "outputs": [],
   "source": [
    "def ExponentialRandomWalk(loc=1., scale=1e-2, drift=0., num_steps=100):\n",
    "    '''\n",
    "    Return distrubtion of exponentiated Gaussian random walk\n",
    "    \n",
    "    Variables are x_0, ..., x_{T-1}\n",
    "    \n",
    "    Dynamics in log-space are random walk with drift:\n",
    "       log(x_0) := log(loc) \n",
    "       log(x_t) := log(x_{t-1}) + drift + eps_t,    eps_t ~ N(0, scale)\n",
    "        \n",
    "    ==> Dynamics in non-log space are:\n",
    "        x_0 := loc\n",
    "        x_t := x_{t-1} * exp(drift + eps_t),    eps_t ~ N(0, scale)        \n",
    "    '''\n",
    "    \n",
    "    log_loc = np.log(loc) + drift * (np.arange(num_steps)+0.)\n",
    "    \n",
    "    return dist.TransformedDistribution(\n",
    "        dist.GaussianRandomWalk(scale=scale, num_steps=num_steps),\n",
    "        [\n",
    "            dist.transforms.AffineTransform(loc = log_loc, scale=1.),\n",
    "            dist.transforms.ExpTransform()\n",
    "        ]\n",
    "    )"
   ]
  },
  {
   "cell_type": "code",
   "execution_count": 56,
   "metadata": {},
   "outputs": [
    {
     "name": "stdout",
     "output_type": "stream",
     "text": [
      "(4, 12)\n"
     ]
    }
   ],
   "source": [
    "import rpy2\n",
    "import numpy as np\n",
    "from rpy2.robjects.packages import importr\n",
    "import rpy2.robjects.numpy2ri\n",
    "rpy2.robjects.numpy2ri.activate()\n",
    "splines = importr(\"splines\")\n",
    "predict = importr(\"stats\")\n",
    "\n",
    "\n",
    "df_full = pd.DataFrame({'X':np.arange(len(joined_df.valuecases.tolist())),\n",
    "                   'Y':np.array(joined_df.valuecases.tolist()),  # add your data here\n",
    "                    'D': np.array(joined_df.valuedeaths.tolist())})\n",
    "                  \n",
    "df_train =df_full\n",
    "basis = splines.ns(np.arange(0,len(df_full.X.values)),knots=np.arange(0,len(df_full.X.values),4))\n",
    "basis_matrix = np.array(basis)\n",
    "basis_train= basis_matrix[:len(df_full.X.values),:]\n",
    "\n",
    "basis_oos = predict.predict(basis,newx=np.arange(len(df_full.X.values)+1,(len(df_full.X.values)+5)))\n",
    "basis_oos_matrix = np.array(basis_oos)\n",
    "num_data =basis_matrix.shape[0]\n",
    "num_basis = basis_matrix.shape[1]\n",
    "print (basis_oos_matrix.shape)"
   ]
  },
  {
   "cell_type": "code",
   "execution_count": 65,
   "metadata": {},
   "outputs": [],
   "source": [
    "def model2(lagged_mat=None ,Forecast=False,b_2_tmp=None,B_local=None,beta_mult=1):\n",
    "    b_1 = numpyro.sample('slope',dist.Normal(jnp.zeros(3),10*jnp.ones(3)))\n",
    "    #w_1 = numpyro.sample('w',dist.Beta(100,1))\n",
    "    a_raw = numpyro.sample('a_raw_init',ExponentialRandomWalk(scale=1e-1, num_steps=num_basis))\n",
    "\n",
    "#    a_raw_boundary = numpyro.sample('a_raw_boundary',ExponentialRandomWalk(loc=tmp,scale=1e-2, num_steps=4)) \n",
    "    \n",
    "    #a_raw =  numpyro.deterministic('a_raw', jnp.concatenate((a_raw_init,a_raw_boundary)))\n",
    "\n",
    "    tau = numpyro.sample('tau',dist.Exponential(10))\n",
    "    \n",
    "    #jnp.dot(jnp.array(B_local), tau*a_raw) \n",
    "    y_hat =  numpyro.deterministic('d_hat',   jnp.dot(beta_mult*b_1,lagged_mat) + jnp.dot(jnp.array(B_local), tau*a_raw) )\n",
    "   \n",
    "\n",
    "    numpyro.sample('c_obs', dist.Normal(y_hat, .01), obs=df_train.D.values[3:])\n",
    "    \n"
   ]
  },
  {
   "cell_type": "code",
   "execution_count": 66,
   "metadata": {},
   "outputs": [
    {
     "name": "stdout",
     "output_type": "stream",
     "text": [
      "(39, 3)\n"
     ]
    },
    {
     "name": "stderr",
     "output_type": "stream",
     "text": [
      "sample: 100%|██████████| 300/300 [00:09<00:00, 30.64it/s, 63 steps of size 8.25e-03. acc. prob=0.93] \n"
     ]
    },
    {
     "name": "stdout",
     "output_type": "stream",
     "text": [
      "\n",
      "                    mean       std    median      5.0%     95.0%     n_eff     r_hat\n",
      " a_raw_init[0]      1.00      0.09      1.00      0.85      1.13     64.07      1.02\n",
      " a_raw_init[1]      1.51      0.18      1.49      1.21      1.75     51.48      1.05\n",
      " a_raw_init[2]      8.53      1.06      8.46      6.81     10.12     47.36      1.04\n",
      " a_raw_init[3]     13.89      1.83     13.68     11.08     16.74     38.11      1.06\n",
      " a_raw_init[4]      5.51      0.67      5.45      4.58      6.74     37.48      1.08\n",
      " a_raw_init[5]      2.28      0.30      2.25      1.83      2.76     46.87      1.03\n",
      " a_raw_init[6]      1.13      0.16      1.11      0.90      1.39     47.62      1.04\n",
      " a_raw_init[7]      0.72      0.11      0.71      0.56      0.91     39.66      1.06\n",
      " a_raw_init[8]      0.50      0.08      0.48      0.38      0.62     33.47      1.07\n",
      " a_raw_init[9]      0.39      0.07      0.38      0.28      0.50     34.48      1.07\n",
      "a_raw_init[10]      0.31      0.06      0.31      0.22      0.41     40.98      1.07\n",
      "a_raw_init[11]      0.29      0.06      0.28      0.19      0.38     52.01      1.03\n",
      "      slope[0]     -0.23      0.03     -0.22     -0.28     -0.17     97.91      0.99\n",
      "      slope[1]      1.46      0.06      1.45      1.36      1.54     83.01      1.00\n",
      "      slope[2]     -0.82      0.04     -0.82     -0.88     -0.75    108.78      1.01\n",
      "           tau      0.04      0.00      0.04      0.03      0.04     45.59      1.06\n",
      "\n",
      "Number of divergences: 0\n"
     ]
    }
   ],
   "source": [
    "lagged_mat = pd.concat([df_full.Y.shift(1),df_full.Y.shift(2),df_full.Y.shift(3)],axis=1).dropna()\n",
    "normalization_constant = np.max(lagged_mat.values)\n",
    "lagged_mat = lagged_mat/normalization_constant\n",
    "print (lagged_mat.shape)\n",
    "rng_key = random.PRNGKey(0)\n",
    "rng_key, rng_key_ = random.split(rng_key)\n",
    "num_warmup, num_samples = 100, 200\n",
    "# Run NUTS.\n",
    "kernel = NUTS(model2)\n",
    "mcmc = MCMC(kernel, num_warmup, num_samples)\n",
    "mcmc.run(rng_key_,lagged_mat=np.transpose(lagged_mat.values),B_local=basis_train[3:,:],beta_mult=1)\n",
    "mcmc.print_summary()\n",
    "samples_2 = mcmc.get_samples()"
   ]
  },
  {
   "cell_type": "code",
   "execution_count": 67,
   "metadata": {},
   "outputs": [
    {
     "data": {
      "text/plain": [
       "<matplotlib.collections.PathCollection at 0x12a8efa20>"
      ]
     },
     "execution_count": 67,
     "metadata": {},
     "output_type": "execute_result"
    },
    {
     "data": {
      "image/png": "[encoded data removed]",
      "text/plain": [
       "<Figure size 432x288 with 1 Axes>"
      ]
     },
     "metadata": {},
     "output_type": "display_data"
    }
   ],
   "source": [
    "plt.style.use('ggplot')\n",
    "plt.plot(df_train.X.values[3:],samples_2['d_hat'].mean(axis=[0]),linewidth=.5)\n",
    "plt.scatter(df_train.X.values[3:],df_train.D.values[3:],color='black',s=.75)"
   ]
  },
  {
   "cell_type": "code",
   "execution_count": 61,
   "metadata": {},
   "outputs": [
    {
     "ename": "NameError",
     "evalue": "name 'Predictive' is not defined",
     "output_type": "error",
     "traceback": [
      "\u001b[0;31m---------------------------------------------------------------------------\u001b[0m",
      "\u001b[0;31mNameError\u001b[0m                                 Traceback (most recent call last)",
      "\u001b[0;32m<ipython-input-61-ef7b388df5be>\u001b[0m in \u001b[0;36m<module>\u001b[0;34m\u001b[0m\n\u001b[0;32m----> 1\u001b[0;31m \u001b[0mpredictive\u001b[0m \u001b[0;34m=\u001b[0m \u001b[0mPredictive\u001b[0m\u001b[0;34m(\u001b[0m\u001b[0mmodel2\u001b[0m\u001b[0;34m,\u001b[0m \u001b[0msamples_2\u001b[0m\u001b[0;34m)\u001b[0m\u001b[0;34m\u001b[0m\u001b[0m\n\u001b[0m\u001b[1;32m      2\u001b[0m predictions = predictive(rng_key_,\n\u001b[1;32m      3\u001b[0m                          \u001b[0mlagged_mat\u001b[0m\u001b[0;34m=\u001b[0m\u001b[0mnormalized\u001b[0m\u001b[0;34m,\u001b[0m\u001b[0;34m\u001b[0m\u001b[0m\n\u001b[1;32m      4\u001b[0m                         Forecast=True,B_local=basis_oos_matrix,beta_mult=1)['d_hat']\n\u001b[1;32m      5\u001b[0m \u001b[0;34m\u001b[0m\u001b[0m\n",
      "\u001b[0;31mNameError\u001b[0m: name 'Predictive' is not defined"
     ]
    }
   ],
   "source": [
    "\n",
    "predictive = Predictive(model2, samples_2)\n",
    "predictions = predictive(rng_key_,\n",
    "                         lagged_mat=normalized,\n",
    "                        Forecast=True,B_local=basis_oos_matrix,beta_mult=1)['d_hat']\n",
    "\n"
   ]
  },
  {
   "cell_type": "code",
   "execution_count": null,
   "metadata": {},
   "outputs": [],
   "source": []
  }
 ],
 "metadata": {
  "kernelspec": {
   "display_name": "Python 3",
   "language": "python",
   "name": "python3"
  },
  "language_info": {
   "codemirror_mode": {
    "name": "ipython",
    "version": 3
   },
   "file_extension": ".py",
   "mimetype": "text/x-python",
   "name": "python",
   "nbconvert_exporter": "python",
   "pygments_lexer": "ipython3",
   "version": "3.6.4"
  }
 },
 "nbformat": 4,
 "nbformat_minor": 2
}
